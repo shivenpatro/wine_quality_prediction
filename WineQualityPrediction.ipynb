{
 "cells": [
  {
   "cell_type": "markdown",
   "id": "c5e8386f",
   "metadata": {},
   "source": [
    "# Wine Quality Prediction Project\n",
    "\n",
    "## Table of Contents\n",
    "- [Introduction](#Introduction)\n",
    "- [Dataset Overview](#Dataset-Overview)\n",
    "- [Data Preprocessing](#Data-Preprocessing)\n",
    "- [Model Training](#Model-Training)\n",
    "- [Model Evaluation](#Model-Evaluation)\n",
    "- [Feature Importance](#Feature-Importance)\n",
    "- [Conclusion](#Conclusion)\n",
    "\n",
    "This project aims to predict the quality of red wine based on its physicochemical properties. The goal is to build a machine learning model that can accurately predict the wine's quality score (ranging from 3 to 8) based on these features. This notebook is designed to be educational, providing clear explanations and visualizations to help both beginners and experienced practitioners understand the process."
   ]
  },
  {
   "cell_type": "markdown",
   "id": "d61a8883",
   "metadata": {},
   "source": [
    "## Introduction\n",
    "\n",
    "Wine quality is typically evaluated by experts, but machine learning can help automate this process by analyzing various chemical properties of wine. This project demonstrates how to build a predictive model using a dataset of red wine samples. The dataset includes features such as:\n",
    "\n",
    "- Fixed Acidity\n",
    "- Volatile Acidity\n",
    "- Citric Acid\n",
    "- Residual Sugar\n",
    "- Chlorides\n",
    "- Free Sulfur Dioxide\n",
    "- Total Sulfur Dioxide\n",
    "- Density\n",
    "- pH\n",
    "- Sulphates\n",
    "- Alcohol\n",
    "\n",
    "The target variable is the quality score, which ranges from 3 (poor quality) to 8 (excellent quality)."
   ]
  },
  {
   "cell_type": "markdown",
   "id": "3a3584b2",
   "metadata": {},
   "source": [
    "## Dataset Overview\n",
    "\n",
    "### Data Shape and Information\n",
    "Before diving into analysis, let's understand the structure of our dataset."
   ]
  },
  {
   "cell_type": "code",
   "execution_count": 1,
   "id": "3739057d",
   "metadata": {},
   "outputs": [],
   "source": [
    "# Import necessary librariesimport pandas as pdimport numpy as npimport matplotlib.pyplot as pltimport seaborn as snsfrom imblearn.over_sampling import SMOTEfrom sklearn.model_selection import train_test_splitfrom sklearn.preprocessing import StandardScalerfrom sklearn.ensemble import GradientBoostingClassifierfrom sklearn.model_selection import RandomizedSearchCVfrom sklearn.metrics import accuracy_score, classification_report, confusion_matrix"
   ]
  },
  {
   "cell_type": "markdown",
   "id": "325a5c03",
   "metadata": {},
   "source": [
    "### Loading the Dataset\n",
    "We'll start by loading the dataset and displaying some basic information."
   ]
  },
  {
   "cell_type": "code",
   "execution_count": 2,
   "id": "c94fc382",
   "metadata": {},
   "outputs": [],
   "source": [
    "# Load the datasetwine_data = pd.read_csv('winequality-red.csv')# Display the first few rows of the datasetprint(\"Data shape: \", wine_data.shape)print(\"\\nData info: \")print(wine_data.info())# Display data descriptionprint(\"\\nData description: \\n\", wine_data.describe())# Check for missing valuesprint(\"\\nMissing values: \", wine_data.isnull().sum())"
   ]
  },
  {
   "cell_type": "markdown",
   "id": "94d0f6b4",
   "metadata": {},
   "source": [
    "### Understanding the Target Variable\n",
    "Let's visualize the distribution of the target variable (wine quality) to understand how the data is distributed."
   ]
  },
  {
   "cell_type": "code",
   "execution_count": null,
   "id": "c45b3934",
   "metadata": {},
   "outputs": [],
   "source": [
    "# Visualize the distribution of the target variableplt.figure(figsize=(10,6))sns.countplot(wine_data['quality'])plt.title('Distribution of Wine Quality')plt.xlabel('Quality')plt.ylabel('Count')plt.show()"
   ]
  },
  {
   "cell_type": "markdown",
   "id": "b582394c",
   "metadata": {},
   "source": [
    "### Exploring Feature Relationships\n",
    "Understanding how features relate to each other and to the target variable is crucial for building an effective model."
   ]
  },
  {
   "cell_type": "code",
   "execution_count": null,
   "id": "6fe8a121",
   "metadata": {},
   "outputs": [],
   "source": [
    "# Visualize the correlation matrixplt.figure(figsize=(12,8))sns.heatmap(wine_data.corr(), annot=True, cmap='coolwarm')plt.title('Correlation Matrix')plt.show()"
   ]
  },
  {
   "cell_type": "markdown",
   "id": "aa349dd2",
   "metadata": {},
   "source": [
    "## Data Preprocessing\n",
    "\n",
    "### Handling Class Imbalance\n",
    "The dataset may have an uneven distribution of quality scores, which can affect model performance. We'll use SMOTE (Synthetic Minority Oversampling Technique) to balance the classes."
   ]
  },
  {
   "cell_type": "code",
   "execution_count": null,
   "id": "1b6286c9",
   "metadata": {},
   "outputs": [],
   "source": [
    "# Split the data into features (X) and target (y)X = wine_data.drop('quality', axis=1)y = wine_data['quality']# Apply SMOTE to handle class imbalancesmote = SMOTE(random_state=42)X_res, y_res = smote.fit_resample(X, y)# Split the data into training and testing setsX_train, X_test, y_train, y_test = train_test_split(X_res, y_res, test_size=0.2, random_state=42)# Scale the featuresscaler = StandardScaler()X_train_scaled = scaler.fit_transform(X_train)X_test_scaled = scaler.transform(X_test)# Visualize the distribution of features before and after scalingfig, axes = plt.subplots(1, 2, figsize=(15, 6))sns.histplot(X_train, ax=axes[0], kde=True)axes[0].set_title('Before Scaling')sns.histplot(X_train_scaled, ax=axes[1], kde=True)axes[1].set_title('After Scaling')plt.show()"
   ]
  },
  {
   "cell_type": "markdown",
   "id": "abb8c62c",
   "metadata": {},
   "source": [
    "## Model Training\n",
    "\n",
    "### Selecting the Algorithm\n",
    "We'll use a Gradient Boosting Classifier, which is effective for handling various data types and provides good interpretability."
   ]
  },
  {
   "cell_type": "code",
   "execution_count": null,
   "id": "21876507",
   "metadata": {},
   "outputs": [],
   "source": [
    "# Define the hyperparameter spaceparam_grid = {    'n_estimators': [100, 200],    'learning_rate': [0.1, 0.05],    'max_depth': [5, 7],    'min_samples_split': [3, 4],    'min_samples_leaf': [2, 3]}# Initialize the model and perform hyperparameter tuningmodel = GradientBoostingClassifier()random_search = RandomizedSearchCV(model, param_grid, cv=5, n_iter=3, random_state=42)random_search.fit(X_train_scaled, y_train)print(\"Best hyperparameters: \", random_search.best_params_)"
   ]
  },
  {
   "cell_type": "markdown",
   "id": "ead64e27",
   "metadata": {},
   "source": [
    "## Model Evaluation\n",
    "\n",
    "### Assessing Model Performance\n",
    "We'll evaluate the model using accuracy, classification report, and confusion matrix to understand its performance."
   ]
  },
  {
   "cell_type": "code",
   "execution_count": null,
   "id": "52717b7b",
   "metadata": {},
   "outputs": [],
   "source": [
    "# Evaluate the best model on the test setbest_model = random_search.best_estimator_y_pred = best_model.predict(X_test_scaled)print(\"Accuracy: \", accuracy_score(y_test, y_pred))print(\"\\nClassification Report: \\n\", classification_report(y_test, y_pred))print(\"\\nConfusion Matrix: \\n\", confusion_matrix(y_test, y_pred))# Visualize the confusion matrixplt.figure(figsize=(8,6))sns.heatmap(confusion_matrix(y_test, y_pred), annot=True, fmt='d', cmap='Blues')plt.title('Confusion Matrix')plt.xlabel('Predicted')plt.ylabel('Actual')plt.show()"
   ]
  },
  {
   "cell_type": "markdown",
   "id": "80e2f222",
   "metadata": {},
   "source": [
    "## Feature Importance\n",
    "\n",
    "Understanding which features contribute most to the model's predictions is essential for interpretability."
   ]
  },
  {
   "cell_type": "code",
   "execution_count": null,
   "id": "a3eba07b",
   "metadata": {},
   "outputs": [],
   "source": [
    "# Display feature importancefeature_importance = pd.DataFrame({    'feature': X.columns,    'importance': best_model.feature_importances_})feature_importance = feature_importance.sort_values(by='importance', ascending=False)plt.figure(figsize=(10,6))sns.barplot(x='importance', y='feature', data=feature_importance)plt.title('Feature Importance')plt.xlabel('Importance')plt.ylabel('Feature')plt.show()"
   ]
  },
  {
   "cell_type": "markdown",
   "id": "b97bcec6",
   "metadata": {},
   "source": [
    "## Conclusion\n",
    "\n",
    "In this project, we built a machine learning model to predict the quality of red wine based on its physicochemical properties. The model achieved an accuracy of X.XX on the test set. The most important features for predicting wine quality were [list top features]. This project demonstrates a clear workflow for building and evaluating a machine learning model, making it accessible to both beginners and experienced practitioners."
   ]
  }
 ],
 "metadata": {
  "kernelspec": {
   "display_name": "Python 3 (ipykernel)",
   "language": "python",
   "name": "python3"
  },
  "language_info": {
   "codemirror_mode": {
    "name": "ipython",
    "version": 3
   },
   "file_extension": ".py",
   "mimetype": "text/x-python",
   "name": "python",
   "nbconvert_exporter": "python",
   "pygments_lexer": "ipython3",
   "version": "3.13.2"
  }
 },
 "nbformat": 4,
 "nbformat_minor": 5
}
